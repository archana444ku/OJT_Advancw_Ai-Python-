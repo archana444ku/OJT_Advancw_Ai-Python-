{
 "cells": [
  {
   "cell_type": "code",
   "execution_count": 1,
   "id": "4048ede4",
   "metadata": {},
   "outputs": [],
   "source": [
    "import numpy as np\n"
   ]
  },
  {
   "cell_type": "markdown",
   "id": "ef5f3b72",
   "metadata": {},
   "source": [
    "# Sample data\n"
   ]
  },
  {
   "cell_type": "code",
   "execution_count": 2,
   "id": "844101be",
   "metadata": {},
   "outputs": [],
   "source": [
    "X = np.array([1, 2, 3, 4, 5])\n",
    "y = np.array([48, 60, 72, 84, 96])"
   ]
  },
  {
   "cell_type": "markdown",
   "id": "fb050e7d",
   "metadata": {},
   "source": [
    "# Adding a column of ones to X for the intercept term\n"
   ]
  },
  {
   "cell_type": "code",
   "execution_count": 4,
   "id": "24b3b5a3",
   "metadata": {},
   "outputs": [],
   "source": [
    "X_b = np.c_[np.ones((len(X), 1)), X]\n"
   ]
  },
  {
   "cell_type": "markdown",
   "id": "46c1ba46",
   "metadata": {},
   "source": [
    "# Initial parameters (intercept and slope)\n"
   ]
  },
  {
   "cell_type": "code",
   "execution_count": 5,
   "id": "14d90ba3",
   "metadata": {},
   "outputs": [],
   "source": [
    "theta = np.random.randn(2)\n"
   ]
  },
  {
   "cell_type": "markdown",
   "id": "71781c6b",
   "metadata": {},
   "source": [
    "# Cost Function (Mean Squared Error)\n"
   ]
  },
  {
   "cell_type": "code",
   "execution_count": 6,
   "id": "8b09aa4f",
   "metadata": {},
   "outputs": [],
   "source": [
    "def compute_cost(X, y, theta):\n",
    "    m = len(y)\n",
    "    predictions = X.dot(theta)\n",
    "    errors = predictions - y\n",
    "    cost = (1 / (2 * m)) * np.sum(errors ** 2)\n",
    "    return cost"
   ]
  },
  {
   "cell_type": "markdown",
   "id": "182e949b",
   "metadata": {},
   "source": [
    "# Gradient Descent function\n"
   ]
  },
  {
   "cell_type": "code",
   "execution_count": 7,
   "id": "03ec162a",
   "metadata": {},
   "outputs": [],
   "source": [
    "def gradient_descent(X, y, theta, alpha, n_iterations):\n",
    "    m = len(y)\n",
    "    cost_history = np.zeros(n_iterations)\n",
    "    \n",
    "    for iteration in range(n_iterations):\n",
    "        gradients = (1 / m) * X.T.dot(X.dot(theta) - y)\n",
    "        theta = theta - alpha * gradients\n",
    "        cost_history[iteration] = compute_cost(X, y, theta)\n",
    "    \n",
    "    return theta, cost_history"
   ]
  },
  {
   "cell_type": "markdown",
   "id": "f8771a9d",
   "metadata": {},
   "source": [
    "# Learning rate and number of iterations\n"
   ]
  },
  {
   "cell_type": "code",
   "execution_count": 8,
   "id": "68251c92",
   "metadata": {},
   "outputs": [],
   "source": [
    "alpha = 0.01\n",
    "n_iterations = 1000"
   ]
  },
  {
   "cell_type": "markdown",
   "id": "2d83d630",
   "metadata": {},
   "source": [
    "# Performing gradient descent\n"
   ]
  },
  {
   "cell_type": "code",
   "execution_count": 9,
   "id": "aa2f86ed",
   "metadata": {},
   "outputs": [],
   "source": [
    "theta_optimal, cost_history = gradient_descent(X_b, y, theta, alpha, n_iterations)\n"
   ]
  },
  {
   "cell_type": "markdown",
   "id": "682d7fa1",
   "metadata": {},
   "source": [
    "# Predicted values\n"
   ]
  },
  {
   "cell_type": "code",
   "execution_count": 10,
   "id": "ba62699a",
   "metadata": {},
   "outputs": [],
   "source": [
    "y_pred = X_b.dot(theta_optimal)\n"
   ]
  },
  {
   "cell_type": "markdown",
   "id": "f05d3c11",
   "metadata": {},
   "source": [
    "# Print the optimal parameters and the final cost\n"
   ]
  },
  {
   "cell_type": "code",
   "execution_count": 11,
   "id": "ef1ad6cc",
   "metadata": {},
   "outputs": [
    {
     "name": "stdout",
     "output_type": "stream",
     "text": [
      "Optimal parameters: intercept = 30.206889701137914, slope = 13.604598659962427\n",
      "Final cost: 3.0542651272277523\n"
     ]
    }
   ],
   "source": [
    "print(f\"Optimal parameters: intercept = {theta_optimal[0]}, slope = {theta_optimal[1]}\")\n",
    "print(f\"Final cost: {cost_history[-1]}\")"
   ]
  },
  {
   "cell_type": "markdown",
   "id": "8756b582",
   "metadata": {},
   "source": [
    "# Plot the cost function history\n"
   ]
  },
  {
   "cell_type": "code",
   "execution_count": 12,
   "id": "646bc197",
   "metadata": {},
   "outputs": [
    {
     "data": {
      "image/png": "[encoded data removed]",
      "text/plain": [
       "<Figure size 640x480 with 1 Axes>"
      ]
     },
     "metadata": {},
     "output_type": "display_data"
    }
   ],
   "source": [
    "import matplotlib.pyplot as plt\n",
    "plt.plot(range(n_iterations), cost_history)\n",
    "plt.xlabel('Iterations')\n",
    "plt.ylabel('Cost (MSE)')\n",
    "plt.title('Cost Function History')\n",
    "plt.show()"
   ]
  },
  {
   "cell_type": "markdown",
   "id": "0dfa6264",
   "metadata": {},
   "source": [
    "# Plot the data and the regression line\n"
   ]
  },
  {
   "cell_type": "code",
   "execution_count": null,
   "id": "cda5b6ed",
   "metadata": {},
   "outputs": [],
   "source": []
  }
 ],
 "metadata": {
  "kernelspec": {
   "display_name": "Python 3 (ipykernel)",
   "language": "python",
   "name": "python3"
  },
  "language_info": {
   "codemirror_mode": {
    "name": "ipython",
    "version": 3
   },
   "file_extension": ".py",
   "mimetype": "text/x-python",
   "name": "python",
   "nbconvert_exporter": "python",
   "pygments_lexer": "ipython3",
   "version": "3.12.2"
  }
 },
 "nbformat": 4,
 "nbformat_minor": 5
}
